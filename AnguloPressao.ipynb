{
 "cells": [
  {
   "cell_type": "code",
   "execution_count": null,
   "metadata": {},
   "outputs": [],
   "source": [
    "from sympy import *\n",
    "%matplotlib inline"
   ]
  },
  {
   "cell_type": "code",
   "execution_count": null,
   "metadata": {},
   "outputs": [],
   "source": [
    "def Newton(f,x):     # Raiz de f por Newton Raphson\n",
    "    df = diff(f, θ)\n",
    "    f, df = Lambda( θ, f ), Lambda( θ, df )\n",
    "    while ( abs( f(x) ) > 0.001 ):\n",
    "        x = x - f(x)/(df(x))\n",
    "    return x"
   ]
  },
  {
   "cell_type": "code",
   "execution_count": null,
   "metadata": {},
   "outputs": [],
   "source": [
    "def bissect(f, L):\n",
    "    f = Lambda( θ, f )\n",
    "    \n",
    "    a = L[0]; b = L[1]\n",
    "    fa, fb = f(a), f(b)\n",
    "    if ( fa*fb > 0 ):\n",
    "        b += 0.1\n",
    "    while abs(b-a) > 0.001:\n",
    "        xm = (a+b)/2.0\n",
    "        fm = f(xm)\n",
    "        if fm*fa > 0.0: \n",
    "            a,fa = xm,fm\n",
    "        else:\n",
    "            b,fb = xm,fm\n",
    "    return a,b"
   ]
  },
  {
   "cell_type": "code",
   "execution_count": null,
   "metadata": {},
   "outputs": [],
   "source": [
    "θ = symbols('theta',real=True)\n",
    "    \n",
    "def GetElev(curva, h, β):\n",
    "    if (curva == 'harmonica'):\n",
    "        u = 0.5*h*( 1 - cos(pi*θ/β) )\n",
    "    elif (curva == 'cicloide'):\n",
    "        u = h*( θ/β - (1/(2*pi))*sin(2*pi*θ/β) )\n",
    "    elif (curva == 'duplaharmonica'):\n",
    "        u = 0.5*h*( 1 - cos(pi*θ/β) - 0.25*(1 - cos(2*pi*θ/β)) )\n",
    "    elif (curva[0] in ['2','3','4']):\n",
    "        curva = curva.replace('-',\"\")\n",
    "        k = [int(i) for i in curva]\n",
    "        if (len(k) == 2):\n",
    "            a,b = k[0],k[1]\n",
    "            u = h*(b*(θ/β)**a - a*(θ/β)**b)\n",
    "        elif (len(k) == 3):\n",
    "            a,b,c = k[0],k[1],k[2]\n",
    "            u = 0.5*h*(b*c*(θ/β)**a - 2*a*c*(θ/β)**b + a*b*(θ/β)**c)\n",
    "        elif (len(k) == 4):\n",
    "            a,b,c,d = k[0],k[1],k[2],k[3]\n",
    "            u = 0.5*h*( (1/3)*b*c*d*(θ/β)**a - a*c*d*(θ/β)**b + a*b*d*(θ/β)**c - (1/3)*a*b*c*(θ/β)**d )\n",
    "    else:\n",
    "        print('ERRO --> função '+curva+' inexistente')\n",
    "        return 0\n",
    "    return u"
   ]
  },
  {
   "cell_type": "code",
   "execution_count": null,
   "metadata": {},
   "outputs": [],
   "source": [
    "def OffSetMaxPressAngle(curva, h, β, φ̂, ε):\n",
    "    u = GetElev(curva, h, β)\n",
    "    v = diff(u,θ); a = diff(u,θ,2)\n",
    "    \n",
    "    uₜ = Lambda( θ, u )\n",
    "    vₜ = Lambda( θ, v )\n",
    "\n",
    "    Rₚ = 0.5*h;  ΔRₚ = 0.05\n",
    "    Tφ = 1;  T = tan(φ̂)\n",
    "    L = [0.2,β]\n",
    "    while ( Tφ - T > 0.0001 ):\n",
    "        Rₚ += ΔRₚ; R = sqrt( Rₚ*Rₚ - ε*ε ) \n",
    "        L = bissect( a*(u + R)-v*(v-ε), L); θₒ = L[0]\n",
    "        Tφ = ( vₜ(θₒ)-ε )/( uₜ(θₒ)+R )\n",
    "\n",
    "    φₘₐₓ = atan( (vₜ(θₒ)-ε)/( uₜ(θₒ)+sqrt(Rₚ*Rₚ-ε*ε) ) )\n",
    "        \n",
    "    p = plot( atan((v-ε)/( u+sqrt(Rₚ*Rₚ-ε*ε) )), (θ,0,β), show=False, title='Ângulo de Transmissão no intervalo [0,β]', xlabel='θ', ylabel='φ' )\n",
    "    return 'Rₚ = '+str(N(Rₚ,5))+', θₒ = '+str(N(θₒ,5))+'rad, φₘₐₓ = '+str(N(φₘₐₓ,5))+'rad', p"
   ]
  },
  {
   "cell_type": "code",
   "execution_count": null,
   "metadata": {},
   "outputs": [],
   "source": [
    "def GetMaxPressureAng(curva, h, β, φ̂):\n",
    "    u = GetElev(curva, h, β)\n",
    "    v = diff(u,θ); a = diff(u,θ,2)\n",
    "    \n",
    "    uₜ = Lambda( θ, u ); vₜ = Lambda( θ, v )\n",
    "\n",
    "    Rₚ = 0.5*h;  ΔRₚ = 0.05\n",
    "    Tφ = 1;  T = tan(φ̂)\n",
    "    L = [0.2,β]\n",
    "    while ( Tφ - T > 0.0001 ):\n",
    "        Rₚ += ΔRₚ\n",
    "        L = bissect( a*(u + Rₚ)-v*v, L); θₒ = L[0]\n",
    "        Tφ = vₜ(θₒ)/( uₜ(θₒ)+Rₚ )\n",
    "    \n",
    "    φₘₐₓ = atan( vₜ(θₒ)/( uₜ(θₒ)+Rₚ ) )\n",
    "        \n",
    "    p = plot( atan(v/(u+Rₚ)), (θ,0,β), show=False, title='Ângulo de Transmissão no intervalo [0,β]', xlabel='θ', ylabel='φ' )\n",
    "    return 'Rₚ = '+str(N(Rₚ,5))+', θₒ = '+str(N(θₒ,5))+'rad, φₘₐₓ = '+str(N(φₘₐₓ,5))+'rad', p"
   ]
  },
  {
   "cell_type": "code",
   "execution_count": null,
   "metadata": {},
   "outputs": [],
   "source": [
    "def PhiAngleInformation(curva, h, β, φ̂, ε = 0):\n",
    "    if (ε == 0):\n",
    "        L = GetMaxPressureAng(curva, h, β, φ̂)\n",
    "    else:\n",
    "        L = OffSetMaxPressAngle(curva, h, β, φ̂, ε)\n",
    "\n",
    "    print (L[0])\n",
    "    L[1].show()"
   ]
  },
  {
   "cell_type": "code",
   "execution_count": null,
   "metadata": {},
   "outputs": [],
   "source": [
    "PhiAngleInformation('2-3', 10, 2*pi/3, pi/6, 3)"
   ]
  }
 ],
 "metadata": {
  "kernelspec": {
   "display_name": "Python 3",
   "language": "python",
   "name": "python3"
  },
  "language_info": {
   "codemirror_mode": {
    "name": "ipython",
    "version": 3
   },
   "file_extension": ".py",
   "mimetype": "text/x-python",
   "name": "python",
   "nbconvert_exporter": "python",
   "pygments_lexer": "ipython3",
   "version": "3.8.5"
  }
 },
 "nbformat": 4,
 "nbformat_minor": 2
}
