{
 "cells": [
  {
   "cell_type": "code",
   "execution_count": null,
   "metadata": {},
   "outputs": [],
   "source": [
    "from sympy import *\n",
    "%matplotlib inline"
   ]
  },
  {
   "cell_type": "code",
   "execution_count": null,
   "metadata": {},
   "outputs": [],
   "source": [
    "θ = symbols('theta',real=True)\n",
    "    \n",
    "def GetElev(curva, h, β):\n",
    "    if (curva == 'harmonica'):\n",
    "        u = 0.5*h*( 1 - cos(pi*θ/β) )\n",
    "    elif (curva == 'cicloide'):\n",
    "        u = h*( θ/β - (1/(2*pi))*sin(2*pi*θ/β) )\n",
    "    elif (curva == 'duplaharmonica'):\n",
    "        u = 0.5*h*( 1 - cos(pi*θ/β) - 0.25*(1 - cos(2*pi*θ/β)) )\n",
    "    elif (curva[0] in ['2','3','4']):\n",
    "        curva = curva.replace('-',\"\")\n",
    "        k = [int(i) for i in curva]\n",
    "        if (len(k) == 2):\n",
    "            a,b = k[0],k[1]\n",
    "            u = h*(b*(θ/β)**a - a*(θ/β)**b)\n",
    "        elif (len(k) == 3):\n",
    "            a,b,c = k[0],k[1],k[2]\n",
    "            u = 0.5*h*(b*c*(θ/β)**a - 2*a*c*(θ/β)**b + a*b*(θ/β)**c)\n",
    "        elif (len(k) == 4):\n",
    "            a,b,c,d = k[0],k[1],k[2],k[3]\n",
    "            u = 0.5*h*( (1/3)*b*c*d*(θ/β)**a - a*c*d*(θ/β)**b + a*b*d*(θ/β)**c - (1/3)*a*b*c*(θ/β)**d )\n",
    "    else:\n",
    "        print('ERRO --> função '+curva+' inexistente')\n",
    "        return 0\n",
    "    return u"
   ]
  },
  {
   "cell_type": "code",
   "execution_count": null,
   "metadata": {},
   "outputs": [],
   "source": [
    "def GetRaioBase(curva, h, β):\n",
    "    u = GetElev(curva, h, β)\n",
    "    a = diff(u,θ,2)\n",
    "    aₚ = Lambda( θ, a )\n",
    "    if ( aₚ(β) < 0 ):\n",
    "        Rₒ = -(h + aₚ(β))\n",
    "        if ( Rₒ < 0 ):\n",
    "            print('Rₒ pode ser qualquer valor, Sugestão Rₒ = '+str(1.5*h))\n",
    "        else:\n",
    "            print('Rₒ = ',str(N(Rₒ,5)),',  θₒ = β')\n",
    "    else:\n",
    "        uₚ = Lambda( θ, u )\n",
    "        fₚ = uₚ + aₚ\n",
    "        fₐₙₜ = 0\n",
    "        ε = 0.01\n",
    "        while ( aₚ(β-ε) < fₐₙₜ ):\n",
    "            fₐₙₜ = aₚ(β-ε)\n",
    "            ε += 0.01\n",
    "        \n",
    "        Rₒ = -(fₐₙₜ + uₚ(β-ε))\n",
    "        if ( Rₒ < 0 ):\n",
    "            print('Rₒ = ',N(Rₒ,5),' --> Rₒ pode ser qualquer valor, Sugestão Rₒ = ',1.5*h)\n",
    "        else:\n",
    "            print('Rₒ = ',str(N(Rₒ,5)),',  θₒ = ',str(N(β-ε,5)))\n",
    "            if ( Rₒ < h ):\n",
    "                print('Rₒ nunca deve ser menor que h --> Sugestão Rₒ = ',1.5*h)\n",
    "    p = plot( u+a, (θ,0,β), title='f(θ)+f\\'\\'(θ)  no intervalo [0,β]', xlabel='θ', ylabel=' ' )"
   ]
  },
  {
   "cell_type": "code",
   "execution_count": null,
   "metadata": {},
   "outputs": [],
   "source": [
    "curva = '3-4-5'    #  Nome da curva de elevação entre apóstrofos\n",
    "h = 2          #  Altura de elevação\n",
    "β = 2*pi/3          #  Ângulo de elevação em radianos ou graus*\n",
    "#β = pi*β/180   # *Abrir esta linha, caso o valor de β tenha sido em graus\n",
    "\n",
    "GetRaioBase(curva, h, β)"
   ]
  }
 ],
 "metadata": {
  "kernelspec": {
   "display_name": "Python 3",
   "language": "python",
   "name": "python3"
  },
  "language_info": {
   "codemirror_mode": {
    "name": "ipython",
    "version": 3
   },
   "file_extension": ".py",
   "mimetype": "text/x-python",
   "name": "python",
   "nbconvert_exporter": "python",
   "pygments_lexer": "ipython3",
   "version": "3.8.5"
  }
 },
 "nbformat": 4,
 "nbformat_minor": 2
}
