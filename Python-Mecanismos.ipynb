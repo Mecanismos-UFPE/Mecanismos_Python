{
 "cells": [
  {
   "cell_type": "markdown",
   "metadata": {},
   "source": [
    "## Análise de Mecanismos\n",
    "###### Obtém as velocidades e acelerações para meacanismos com qualquer quantidade de barras."
   ]
  },
  {
   "cell_type": "code",
   "execution_count": null,
   "metadata": {},
   "outputs": [],
   "source": [
    "from sympy import *\n",
    "from IPython.display import display"
   ]
  },
  {
   "cell_type": "code",
   "execution_count": null,
   "metadata": {},
   "outputs": [],
   "source": [
    "def MecSolve(Cg,Eq,Ks):          # Cg, lista de Coords Generalizadas\n",
    "    global K, L                  # Passagem de K e L globalmente\n",
    "    Cs = [ i for i in Cg[1:] ]   # Lista com as coords secundárias\n",
    "    J = Eq.jacobian(Cs)          # Jacobiano do sistema\n",
    "    F = Eq.jacobian([Cg[0]])     # Obtenção da matriz F\n",
    "    K = simplify(-(J**-1)*F)     # Obtenção da matriz K\n",
    "    L = simplify( K.jacobian([Cg[0]]) + K.jacobian(Cs)*Ks )"
   ]
  },
  {
   "cell_type": "markdown",
   "metadata": {},
   "source": [
    "#### Uso do Template\n",
    "As duas células acima não devem ser modificadas, apenas copiadas e rodadas uma única vez.\n",
    "\n",
    "Na célula seguinte devem ser feitas as modificações em função da geometria e quantidade de barras do mecanismo."
   ]
  },
  {
   "cell_type": "code",
   "execution_count": null,
   "metadata": {},
   "outputs": [],
   "source": [
    "a,b = symbols('a b')                # Constantes do mecanismo\n",
    "θ,ϕ,x = symbols('theta varphi x')   # Coordenadas generalizadas\n",
    "kϕ,kₓ = symbols('k_{\\\\varphi} k_x') # Coefs de velocidade\n",
    "θₜ,θₜₜ = symbols('\\\\dot{\\\\theta} \\\\ddot{\\\\theta}') # Veloc. e \n",
    "                                                 # acel. principal\n",
    "f1 = a*cos(θ) + b*cos(ϕ) - x   # Equações de restrição\n",
    "f2 = a*sin(θ) - b*sin(ϕ)\n",
    "MecSolve( [θ,ϕ,x], Matrix([f1,f2]), Matrix([kϕ,kₓ]) ) # chama aos\n",
    "                                                      # cálculos\n",
    "display(K*θₜ), display(K*θₜₜ + L*θₜ**2); # Imprime veloc. e aceleração"
   ]
  }
 ],
 "metadata": {
  "kernelspec": {
   "display_name": "Python 3",
   "language": "python",
   "name": "python3"
  },
  "language_info": {
   "codemirror_mode": {
    "name": "ipython",
    "version": 3
   },
   "file_extension": ".py",
   "mimetype": "text/x-python",
   "name": "python",
   "nbconvert_exporter": "python",
   "pygments_lexer": "ipython3",
   "version": "3.6.10"
  }
 },
 "nbformat": 4,
 "nbformat_minor": 2
}
