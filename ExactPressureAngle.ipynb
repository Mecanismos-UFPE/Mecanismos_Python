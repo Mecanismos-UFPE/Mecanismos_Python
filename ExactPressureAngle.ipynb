{
 "cells": [
  {
   "cell_type": "code",
   "execution_count": null,
   "metadata": {},
   "outputs": [],
   "source": [
    "from sympy import *\n",
    "\n",
    "def GetMaxPressureAng(curva, h, β, φ):\n",
    "    if (curva == 'harmonica'):\n",
    "        K = sqrt( 1 + (pi/(β*tan(φ)))**2 )\n",
    "        Rₚ = 0.5*h*(K-1)\n",
    "    elif (curva == 'cicloide'):\n",
    "        K = 2*pi/(β*tan(φ))\n",
    "        Rₚ = (h/pi)*(K - atan(K))\n",
    "    elif (curva == 'duplaharmonica'):\n",
    "        K = sqrt( 1 + 3*(pi/(β*tan(φ)))**2 )\n",
    "        Rₚ = h*(3*(K-1)**2)/(8*K-4)\n",
    "    elif (curva == '3-4-5'):\n",
    "        K = 4/(β*tan(φ)) - sqrt( 1 + (4/(β*tan(φ)))**2 )\n",
    "        Rₚ = 0.046875*h*(K+1)**3 * (K**2-3*K-5/K+13/3)\n",
    "    elif (curva == '4-5-6-7'):\n",
    "        K = 6/(β*tan(φ)) - sqrt( 1 + (6/(β*tan(φ)))**2 )\n",
    "        Rₚ = -0.1875*h*(K+1)**4 * (5*K**3/36-5*K**2/9+K+35/(36*K)-11/9)\n",
    "    else:\n",
    "        print('ERRO --> função '+curva+' inexistente')\n",
    "        return 0\n",
    "    display(N(Rₚ,5))"
   ]
  },
  {
   "cell_type": "code",
   "execution_count": null,
   "metadata": {},
   "outputs": [],
   "source": [
    "GetMaxPressureAng('cicloide', 10, pi/3, pi/6)"
   ]
  }
 ],
 "metadata": {
  "kernelspec": {
   "display_name": "Python 3",
   "language": "python",
   "name": "python3"
  },
  "language_info": {
   "codemirror_mode": {
    "name": "ipython",
    "version": 3
   },
   "file_extension": ".py",
   "mimetype": "text/x-python",
   "name": "python",
   "nbconvert_exporter": "python",
   "pygments_lexer": "ipython3",
   "version": "3.8.5"
  }
 },
 "nbformat": 4,
 "nbformat_minor": 2
}
