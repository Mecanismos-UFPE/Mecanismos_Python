{
  "nbformat": 4,
  "nbformat_minor": 0,
  "metadata": {
    "kernelspec": {
      "display_name": "Python 3",
      "language": "python",
      "name": "python3"
    },
    "language_info": {
      "codemirror_mode": {
        "name": "ipython",
        "version": 3
      },
      "file_extension": ".py",
      "mimetype": "text/x-python",
      "name": "python",
      "nbconvert_exporter": "python",
      "pygments_lexer": "ipython3",
      "version": "3.8.5"
    },
    "colab": {
      "name": "Python-CadeiaNaoImposta.ipynb",
      "provenance": []
    }
  },
  "cells": [
    {
      "cell_type": "code",
      "metadata": {
        "id": "Kvay2HLFUTE2"
      },
      "source": [
        "from sympy import *\n",
        "%matplotlib inline\n",
        "\n",
        "θ = symbols('theta')\n",
        "\n",
        "def GetElev(curva, h, β, revert = 0):\n",
        "    if (curva == 'harmonica'):\n",
        "        u = 0.5*h*( 1 - cos(pi*θ/β) )\n",
        "    elif (curva == 'cicloide'):\n",
        "        u = h*( θ/β - (1/(2*pi))*sin(2*pi*θ/β) )\n",
        "    elif (curva == 'duplaharmonica'):\n",
        "        u = 0.5*h*( 1 - cos(pi*θ/β) - 0.25*(1 - cos(2*pi*θ/β)) )\n",
        "    elif (curva[0] in ['3','4']):\n",
        "        curva = curva.replace('-',\"\")\n",
        "        k = [int(i) for i in curva]\n",
        "        if (len(k) == 2):\n",
        "            a,b = k[0],k[1]\n",
        "            u = h*(b*(θ/β)**a - a*(θ/β)**b)\n",
        "        elif (len(k) == 3):\n",
        "            a,b,c = k[0],k[1],k[2]\n",
        "            u = 0.5*h*(b*c*(θ/β)**a - 2*a*c*(θ/β)**b + a*b*(θ/β)**c)\n",
        "        elif (len(k) == 4):\n",
        "            a,b,c,d = k[0],k[1],k[2],k[3]\n",
        "            u = 0.5*h*( (1/3)*b*c*d*(θ/β)**a - a*c*d*(θ/β)**b + a*b*d*(θ/β)**c - (1/3)*a*b*c*(θ/β)**d )\n",
        "    else:\n",
        "        print('ERRO --> função inexistente')\n",
        "        return 0\n",
        "    \n",
        "    if (revert == 1):\n",
        "        u = u.subs(θ,β-θ)\n",
        "    \n",
        "    return u, β\n",
        "\n",
        "def GetRet(curva, h, β):\n",
        "    return GetElev(curva, h, β, 1)\n",
        "\n",
        "def PlotCurv(C, acel = 0):\n",
        "    u = C[0]; β = C[1]\n",
        "    if (acel == 0):\n",
        "        p = plot(u, diff(u,θ), diff(u,θ,2), diff(u,θ,3), (θ,0,β), show = False)\n",
        "        p[3].line_color = 'y'\n",
        "    else:\n",
        "        p = plot(u, diff(u,θ), diff(u,θ,2), (θ,0,β), show = False)\n",
        "    p[1].line_color = 'g'\n",
        "    p[2].line_color = 'r'\n",
        "    #p[3].line_color = 'y'\n",
        "    p.show()\n",
        "    \n",
        "def PlotCurves(E, βs, R, βi):\n",
        "    f = E[0]; β1 = E[1]; g = R[0]; β2 = R[1]\n",
        "    p = plot(f, diff(f,θ), diff(f,θ,2), diff(f,θ,3), (θ,0,β1), show = False)\n",
        "    p[1].line_color = 'g'\n",
        "    p[2].line_color = 'r'\n",
        "    p[3].line_color = 'y'\n",
        "    \n",
        "    g = g.subs(θ,θ-β1)\n",
        "    if (βs != 0):\n",
        "        v = Lambda(θ,f)\n",
        "        g = g.subs(θ,θ-βs)\n",
        "        s = plot(v(β1), 0, (θ,β1,β1+βs), show = False)\n",
        "        s[1].line_color = 'y'\n",
        "        p.extend(s)\n",
        "\n",
        "    q = plot(g, diff(g,θ), diff(g,θ,2), diff(g,θ,3), (θ,β1+βs,β1+βs+β2), show = False)\n",
        "    q[1].line_color = 'g'\n",
        "    q[2].line_color = 'r'\n",
        "    q[3].line_color = 'y'\n",
        "\n",
        "    if (βi != 0):\n",
        "        t = plot(0, (θ,β1+βs+β2,β1+βs+β2+βi), show = False)\n",
        "        t[0].line_color = 'y'\n",
        "        p.extend(t)\n",
        "    \n",
        "    p.extend(q)\n",
        "    p.show()"
      ],
      "execution_count": null,
      "outputs": []
    },
    {
      "cell_type": "code",
      "metadata": {
        "id": "gvwLNTI3t4v0"
      },
      "source": [
        "f = GetElev('duplaharmonica',2,pi/2)\n",
        "g = GetRet('duplaharmonica',2,pi/2)\n",
        "PlotCurv(f)\n",
        "PlotCurves(f,0,g,pi)"
      ],
      "execution_count": null,
      "outputs": []
    }
  ]
}